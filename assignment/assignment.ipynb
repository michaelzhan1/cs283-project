{
 "cells": [
  {
   "cell_type": "markdown",
   "metadata": {},
   "source": [
    "### Question x (y%)\n",
    "\n",
    "Your task is to built a pipeline that takes in images taken by a rotating and non-translating camera, then performs self-calibration to identify the intrinsic parameters of the camera. "
   ]
  },
  {
   "cell_type": "code",
   "execution_count": null,
   "metadata": {},
   "outputs": [],
   "source": [
    "# imports\n",
    "import numpy as np\n",
    "import matplotlib.pyplot as plt\n",
    "import cv2"
   ]
  },
  {
   "cell_type": "markdown",
   "metadata": {},
   "source": [
    "**a.** Write a function to load images under `data/` using cv2. Then write two functions that first identify interest points on each image using SIFT, then determines matching points between two images with SIFT points. Plot pairs of images with the output of these functions to confirm that SIFT and matching are working as expected. Use `plt.imshow()` and `plt.scatter()`."
   ]
  },
  {
   "cell_type": "markdown",
   "metadata": {},
   "source": [
    "**b.** Following algorithm 4.2 in H&Z, write a function that computes the 3x3 homography between two sets of matching points based on the normalized DLT algorithm. Extend this to use RANSAC to eliminate outliers. For the purpose of this question, be sure to normalize the determinant of the final homography to 1. This should only be done after the RANSAC loop has finished.\n",
    "\n",
    "Recall how many matches at minimum are required to determine a unique homography. Use an $L_2$ distance metric to determine consensus set. "
   ]
  },
  {
   "cell_type": "markdown",
   "metadata": {},
   "source": [
    "**c.** Based on the following equation, write a function that uses the homography functions above to then perform the self-calibration, to determine $K$ for this camera.\n",
    "\\begin{equation}\n",
    "    \\omega=(H_i)^{-\\top}\\omega(H_i)^{-1}\n",
    "\\end{equation}\n",
    "\n",
    "Here, $\\omega$ is the image of the absolute conic, and *is a symmetric 3x3 matrix*. Notably, $\\omega=K^{-\\top}K^{-1}$, whered $K$ is the intrinsic camera matrix.\n",
    "\n",
    "$H_i$ is the homography matrix mapping from a reference image to the $i$th image. For $n+1$ images, you should have $n$ homographies. You can convert this equation into a least-squares equation with a $6n\\times6$ coefficient matrix for $n+1$ total images.\n",
    "\n",
    "Hint: The Cholesky decomposition is useful when decomposing a matrix into either $A=LL^\\top$ or $A=UU^\\top$, where $L$ and $U$ are lower and upper triangular matrices, respectively. This decomposition requires the matrix to be positive definite. It can help to normalize $A$ by its last element $A_{33}$ to avoid any errors."
   ]
  },
  {
   "cell_type": "markdown",
   "metadata": {},
   "source": [
    "#TODO: do something with K afterwards to confirm?"
   ]
  },
  {
   "cell_type": "markdown",
   "metadata": {},
   "source": []
  }
 ],
 "metadata": {
  "kernelspec": {
   "display_name": ".venv",
   "language": "python",
   "name": "python3"
  },
  "language_info": {
   "name": "python",
   "version": "3.10.12"
  }
 },
 "nbformat": 4,
 "nbformat_minor": 2
}
