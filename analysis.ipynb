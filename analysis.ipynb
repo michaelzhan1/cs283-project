{
 "cells": [
  {
   "cell_type": "code",
   "execution_count": 1,
   "metadata": {},
   "outputs": [],
   "source": [
    "import pandas as pd"
   ]
  },
  {
   "cell_type": "code",
   "execution_count": 12,
   "metadata": {},
   "outputs": [
    {
     "name": "stdout",
     "output_type": "stream",
     "text": [
      "fx(rel)     0.068006\n",
      "fy(rel)     0.063947\n",
      "skew       14.729597\n",
      "u           4.382943\n",
      "v           2.907377\n",
      "dtype: float64\n",
      "fx(rel)    0.011348\n",
      "fy(rel)    0.015636\n",
      "skew       5.807325\n",
      "u          2.325654\n",
      "v          3.002601\n",
      "dtype: float64\n",
      "fx(rel)      0.048253\n",
      "fy(rel)      0.055711\n",
      "skew       114.850443\n",
      "u            5.544216\n",
      "v            3.915492\n",
      "dtype: float64\n",
      "fx(rel)     0.055207\n",
      "fy(rel)     0.028362\n",
      "skew       58.455228\n",
      "u           5.683061\n",
      "v           4.007702\n",
      "dtype: float64\n"
     ]
    }
   ],
   "source": [
    "errors_small = pd.read_csv('results/errors_axis_small.csv')\n",
    "errors_large = pd.read_csv('results/errors_axis_large.csv')\n",
    "errors_one_combine = pd.read_csv('results/errors_one_combine.csv')\n",
    "errors_big_combine = pd.read_csv('results/errors_big_combine.csv')\n",
    "print(errors_small.mean())\n",
    "print(errors_large.mean())\n",
    "print(errors_one_combine.mean())\n",
    "print(errors_big_combine.mean())"
   ]
  },
  {
   "cell_type": "code",
   "execution_count": null,
   "metadata": {},
   "outputs": [],
   "source": []
  }
 ],
 "metadata": {
  "kernelspec": {
   "display_name": ".venv",
   "language": "python",
   "name": "python3"
  },
  "language_info": {
   "codemirror_mode": {
    "name": "ipython",
    "version": 3
   },
   "file_extension": ".py",
   "mimetype": "text/x-python",
   "name": "python",
   "nbconvert_exporter": "python",
   "pygments_lexer": "ipython3",
   "version": "3.10.12"
  }
 },
 "nbformat": 4,
 "nbformat_minor": 2
}
