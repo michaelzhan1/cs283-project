{
 "cells": [
  {
   "cell_type": "code",
   "execution_count": 1,
   "metadata": {},
   "outputs": [],
   "source": [
    "import numpy as np\n",
    "import matplotlib.pyplot as plt\n",
    "import cv2\n",
    "import scipy.interpolate"
   ]
  },
  {
   "cell_type": "code",
   "execution_count": 2,
   "metadata": {},
   "outputs": [
    {
     "data": {
      "text/plain": [
       "array([[300.,   0., 150.,   0.],\n",
       "       [  0., 300., 150.,   0.],\n",
       "       [  0.,   0.,   1.,   0.]])"
      ]
     },
     "execution_count": 2,
     "metadata": {},
     "output_type": "execute_result"
    }
   ],
   "source": [
    "# set up original camera matrix\n",
    "f = 300\n",
    "K = np.diag([300, 300, 1])\n",
    "K[0, 2] = f // 2\n",
    "K[1, 2] = f // 2\n",
    "\n",
    "C = np.array([0, 0, 0, 1])\n",
    "\n",
    "P = K @ (np.hstack([np.eye(3), -(C[:3] / C[3]).reshape(-1, 1)]))\n",
    "P"
   ]
  },
  {
   "cell_type": "code",
   "execution_count": 67,
   "metadata": {},
   "outputs": [],
   "source": [
    "# def generate_points(n, seed=0):\n",
    "#    \"\"\"Generate n random points in 3D space\"\"\"\n",
    "#     np.random.seed(seed)\n",
    "#     points = np.random.uniform(-1, 1, (n, 4))\n",
    "#     points[:, 0] *= 2\n",
    "#     points[:, 1] *= 2\n",
    "#     points[:, 2] += 5\n",
    "#     points[:, 3] = 1\n",
    "#     return points\n",
    "\n",
    "def generate_points(rows, cols):\n",
    "    \"\"\"Generate nxn grid of points in 3D space around Z axis\"\"\"\n",
    "    center = np.array([0, 0, 5, 1])\n",
    "    # make an n by n grid surrounding the center\n",
    "    x = np.linspace(-0.1 * cols, 0.1 * cols, cols)\n",
    "    y = np.linspace(-0.1 * rows, 0.1 * rows, rows)\n",
    "    yy, xx = np.meshgrid(x, y)\n",
    "    points = np.stack([xx, yy], axis=-1).reshape(-1, 2)\n",
    "    points = np.hstack([points, np.zeros((rows * cols, 1)), np.ones((rows * cols, 1))])\n",
    "    points += center\n",
    "    return points\n",
    "\n",
    "def get_rotated_camera(K, C, x=0, y=0, z=0):\n",
    "    \"\"\"Apply a rotation to a camera matrix\"\"\"\n",
    "    R = np.eye(3)\n",
    "    R = R @ cv2.Rodrigues(np.array([x, y, z]))[0]\n",
    "    P = K @ np.hstack([R, -(C[:3] / C[3]).reshape(-1, 1)])\n",
    "    return P\n",
    "\n",
    "def get_normalizing_transform(X):\n",
    "    \"\"\"Get a normalizing transformation matrix for a set of identified points\"\"\"\n",
    "    N = X.shape[0]\n",
    "\n",
    "    # get centroid\n",
    "    c_x = X[:, 0].mean()\n",
    "    c_y = X[:, 1].mean()\n",
    "\n",
    "    # get T\n",
    "    denom = (np.sqrt((X[:, 0] - c_x) ** 2 + (X[:, 1] - c_y) ** 2 )).sum()\n",
    "    s = N * 2 ** 0.5 / denom\n",
    "    t_x = -s * c_x\n",
    "    t_y = -s * c_y\n",
    "    T = np.eye(3) * s\n",
    "    T[:, 2] = np.array([t_x, t_y, 1])\n",
    "    return T\n",
    "\n",
    "# TODO: goal with homography: load an image and points such that the coordinates of the points line up with that on the image\n",
    "# in A2, the image was in typical matrix format, from the top down (down, then right)\n",
    "# the points were in cartesian coordinates, from the top down as well (right, then down)\n",
    "\n",
    "# either make the image asap and dont deal with plt.scatter, or fix for plt.scatter\n",
    "def get_homography(X1, X2):\n",
    "    \"\"\"Get the homography matrix that maps X1 to X2\"\"\"\n",
    "    # get normalizing transformation matrices\n",
    "    T1 = get_normalizing_transform(X1)\n",
    "    T2 = get_normalizing_transform(X2)\n",
    "\n",
    "    n = X1.shape[0]\n",
    "\n",
    "    # normalize each matrix\n",
    "    X1n = np.hstack([X1, np.ones((n, 1))]) @ T1.T\n",
    "    X2n = np.hstack([X2, np.ones((n, 1))]) @ T2.T\n",
    "\n",
    "    # build A\n",
    "    A = np.array([]).reshape(0, 9)\n",
    "    for i in range(n):\n",
    "        xip, yip, wip = X2n[i, :]\n",
    "        xi = X1n[i, :].reshape(1, 3)\n",
    "        row1 = np.hstack([np.zeros((1, 3)), -wip* xi, yip * xi])\n",
    "        row2 = np.hstack([wip * xi, np.zeros((1, 3)), -xip * xi])\n",
    "        A = np.vstack([A, row1, row2])\n",
    "\n",
    "    # solve for homography in normalized coordinates\n",
    "    _, _, V = np.linalg.svd(A)\n",
    "    Hn = V[8, :].reshape(3, 3)\n",
    "\n",
    "    # undo normalize transformation\n",
    "    H = np.linalg.inv(T2) @ Hn @ T1\n",
    "    return H\n",
    "\n",
    "def apply_homography(Iin, H):\n",
    "    \"\"\"Apply a homography to a full image\"\"\"\n",
    "    # Input points are given in cartesian coordinates (col-first),\n",
    "    # so we account for this (because H is already affected).\n",
    "    # The dimension order now goes n by m for cartesian coordinates\n",
    "    m, n = Iin.shape[:2]\n",
    "\n",
    "    # find bounds of image, then build mesh in rectified space\n",
    "    I_corners = np.array([[0, 0], [0, m - 1], [n - 1, 0], [n - 1, m - 1]])\n",
    "    Iph_corners = np.hstack([I_corners, np.ones((4, 1))]) @ H.T\n",
    "    Ip_corners = Iph_corners[:, :2] / Iph_corners[:, 2:]\n",
    "    xmin, ymin = Ip_corners.min(axis=0)\n",
    "    xmax, ymax = Ip_corners.max(axis=0)\n",
    "    x, y = np.meshgrid(np.linspace(xmin, xmax, n), np.linspace(ymin, ymax, m))\n",
    "    Xp = np.vstack([x.flatten(), y.flatten(), np.ones(m * n)]).T\n",
    "\n",
    "    # find corresponding points in the original space by solving the equation\n",
    "    # X^T = H^-1 @ X'^T  ->  H @ X^T = X'^T\n",
    "    Xh = np.linalg.lstsq(H, Xp.T, rcond=None)[0].T\n",
    "    X = Xh[:, :2] / Xh[:, 2:]\n",
    "\n",
    "    # Isolate each color channel and interpolate the color value\n",
    "    # at the coordinates listed in X. Single-channel image I still uses\n",
    "    # row-first coordinates, so we flip X when interpolating\n",
    "    res = np.zeros((m, n, 3))\n",
    "    for i in range(3):\n",
    "        I = Iin[:, :, i]\n",
    "        interpolator = scipy.interpolate.RegularGridInterpolator(\n",
    "            (np.arange(I.shape[0]), np.arange(I.shape[1])),\n",
    "            I,\n",
    "            bounds_error=False,\n",
    "            fill_value=0\n",
    "        )\n",
    "        Ip = interpolator(X[:, ::-1]).reshape(m, n) / 255\n",
    "        res[:, :, i] = Ip\n",
    "    return res"
   ]
  },
  {
   "cell_type": "code",
   "execution_count": 71,
   "metadata": {},
   "outputs": [],
   "source": [
    "def points_to_image(points2d, h=300, w=300, r=5):\n",
    "    \"\"\"Convenience function that converts matplotlib points to an image\"\"\"\n",
    "    arr = np.ones((h, w, 3))\n",
    "    for i in range(h):\n",
    "        for j in range(w):\n",
    "            # check if pixel is within r of any point\n",
    "            for k in range(points2d.shape[0]):\n",
    "                point = points2d[k, :]\n",
    "                if np.linalg.norm(np.array([i, j]) - point) < r:\n",
    "                    if k == 0:\n",
    "                        arr[i, j] = np.array([1, 0, 0])\n",
    "                    elif k == 1:\n",
    "                        arr[i, j] = np.array([0, 1, 0])\n",
    "                    else:\n",
    "                        arr[i, j] = np.array([0, 0, 1])\n",
    "                    break\n",
    "    return arr\n",
    "\n",
    "def plot_points_as_image(*points2d):\n",
    "    \"\"\"Plot points with same coordinate system as plt.imshow (inverted y axis, row-first)\"\"\"\n",
    "    n = len(points2d)\n",
    "    fig = plt.figure(figsize=(5 * n, 5))\n",
    "    for i in range(n):\n",
    "        points = points2d[i]\n",
    "        ax = fig.add_subplot(1, n, i + 1)\n",
    "        ax.scatter(points[:, 1], points[:, 0])\n",
    "        ax.scatter([points[0, 1]], [points[0, 0]], c='r')\n",
    "        ax.scatter([points[1, 1]], [points[1, 0]], c='g')\n",
    "        ax.set_aspect('equal')\n",
    "        ax.set_xlim(0, 300)\n",
    "        ax.set_ylim(300, 0)\n",
    "    plt.show()"
   ]
  },
  {
   "cell_type": "code",
   "execution_count": 72,
   "metadata": {},
   "outputs": [
    {
     "data": {
      "text/plain": [
       "array([[ 259.80762114, -150.        ,  150.        ,    0.        ],\n",
       "       [ 150.        ,  259.80762114,  150.        ,    0.        ],\n",
       "       [   0.        ,    0.        ,    1.        ,    0.        ]])"
      ]
     },
     "execution_count": 72,
     "metadata": {},
     "output_type": "execute_result"
    }
   ],
   "source": [
    "P_30z = get_rotated_camera(K, C, z=np.pi/6)\n",
    "P_30z"
   ]
  },
  {
   "cell_type": "code",
   "execution_count": 73,
   "metadata": {},
   "outputs": [
    {
     "data": {
      "image/png": "[encoded data removed]",
      "text/plain": [
       "<Figure size 1000x500 with 2 Axes>"
      ]
     },
     "metadata": {},
     "output_type": "display_data"
    }
   ],
   "source": [
    "# x left-right, y top-bottom, z near-far\n",
    "\n",
    "# orig starts bottom-up, left-right\n",
    "# rotation via image correctly goes 30 deg clockwise, based on z axis\n",
    "# with matplotlib, first column is x (left-right), second is y (bottom-up)\n",
    "\n",
    "# when working with creating the image, we need to flip the y axis, and make sure that the axis order is correct (ij does top-down, left-right)\n",
    "points_3dh = generate_points(5, 10)\n",
    "points_2dh_orig = points_3dh @ P.T\n",
    "points_2d_orig = points_2dh_orig[:, :2] / points_2dh_orig[:, 2].reshape(-1, 1)\n",
    "\n",
    "points_2dh_30z = points_3dh @ P_30z.T\n",
    "points_2d_30z = points_2dh_30z[:, :2] / points_2dh_30z[:, 2].reshape(-1, 1)\n",
    "\n",
    "# fig, axs = plt.subplots(1, 2, figsize=(10, 5))\n",
    "# for ax in axs:\n",
    "#     ax.set_xlim(0, f)\n",
    "#     ax.set_ylim(0, f)\n",
    "#     ax.set_aspect('equal')\n",
    "\n",
    "# axs[0].scatter(points_2d_orig[:, 0], points_2d_orig[:, 1])\n",
    "# axs[1].scatter(points_2d_30z[:, 0], points_2d_30z[:, 1])\n",
    "\n",
    "plot_points_as_image(points_2d_orig, points_2d_30z)"
   ]
  },
  {
   "cell_type": "code",
   "execution_count": 51,
   "metadata": {},
   "outputs": [
    {
     "data": {
      "text/plain": [
       "array([[-5.00000000e-01,  2.88675135e-01, -5.49038106e+01],\n",
       "       [-2.88675135e-01, -5.00000000e-01,  3.16987298e+01],\n",
       "       [ 4.60958588e-19,  4.04970850e-19, -5.77350269e-01]])"
      ]
     },
     "execution_count": 51,
     "metadata": {},
     "output_type": "execute_result"
    }
   ],
   "source": [
    "H = get_homography(points_2d_orig, points_2d_30z)\n",
    "H"
   ]
  },
  {
   "cell_type": "code",
   "execution_count": 75,
   "metadata": {},
   "outputs": [
    {
     "data": {
      "text/plain": [
       "<matplotlib.image.AxesImage at 0x7f8784df93c0>"
      ]
     },
     "execution_count": 75,
     "metadata": {},
     "output_type": "execute_result"
    },
    {
     "data": {
      "image/png": "[encoded data removed]",
      "text/plain": [
       "<Figure size 640x480 with 1 Axes>"
      ]
     },
     "metadata": {},
     "output_type": "display_data"
    }
   ],
   "source": [
    "temp = points_to_image(points_2d_30z)\n",
    "plt.imshow(temp)"
   ]
  },
  {
   "cell_type": "code",
   "execution_count": null,
   "metadata": {},
   "outputs": [],
   "source": []
  }
 ],
 "metadata": {
  "kernelspec": {
   "display_name": ".venv",
   "language": "python",
   "name": "python3"
  },
  "language_info": {
   "codemirror_mode": {
    "name": "ipython",
    "version": 3
   },
   "file_extension": ".py",
   "mimetype": "text/x-python",
   "name": "python",
   "nbconvert_exporter": "python",
   "pygments_lexer": "ipython3",
   "version": "3.10.12"
  }
 },
 "nbformat": 4,
 "nbformat_minor": 2
}
